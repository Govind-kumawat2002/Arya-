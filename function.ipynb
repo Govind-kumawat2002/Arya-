{
 "cells": [
  {
   "cell_type": "code",
   "execution_count": 1,
   "metadata": {},
   "outputs": [],
   "source": [
    "def  myfunctio():\n",
    "    pass\n"
   ]
  },
  {
   "cell_type": "code",
   "execution_count": null,
   "metadata": {},
   "outputs": [
    {
     "ename": "SyntaxError",
     "evalue": "incomplete input (1674785031.py, line 2)",
     "output_type": "error",
     "traceback": [
      "\u001b[1;36m  Cell \u001b[1;32mIn[2], line 2\u001b[1;36m\u001b[0m\n\u001b[1;33m    \u001b[0m\n\u001b[1;37m    ^\u001b[0m\n\u001b[1;31mSyntaxError\u001b[0m\u001b[1;31m:\u001b[0m incomplete input\n"
     ]
    }
   ],
   "source": [
    "# def  myfunctio():\n",
    "   "
   ]
  },
  {
   "cell_type": "code",
   "execution_count": 3,
   "metadata": {},
   "outputs": [
    {
     "name": "stdout",
     "output_type": "stream",
     "text": [
      "hello\n"
     ]
    }
   ],
   "source": [
    "def  myfunction():\n",
    "    print(\"hello\")\n",
    "    \n",
    "myfunction()"
   ]
  },
  {
   "cell_type": "code",
   "execution_count": 4,
   "metadata": {},
   "outputs": [
    {
     "name": "stdout",
     "output_type": "stream",
     "text": [
      "arya\n"
     ]
    }
   ],
   "source": [
    "def myname(name):\n",
    "    print(name)\n",
    "myname(name=\"arya\")"
   ]
  },
  {
   "cell_type": "code",
   "execution_count": 5,
   "metadata": {},
   "outputs": [
    {
     "name": "stdout",
     "output_type": "stream",
     "text": [
      "arya\n",
      "Ritik\n"
     ]
    }
   ],
   "source": [
    "def myname(name='arya'):\n",
    "    print(name)\n",
    "myname()\n",
    "myname(name=\"Ritik\")"
   ]
  },
  {
   "cell_type": "code",
   "execution_count": 6,
   "metadata": {},
   "outputs": [
    {
     "name": "stdout",
     "output_type": "stream",
     "text": [
      "aryacse\n",
      "Ritikcse\n"
     ]
    }
   ],
   "source": [
    "def myname(name='arya',classes='cse'):\n",
    "    print(name+classes)\n",
    "myname()\n",
    "myname(name=\"Ritik\")"
   ]
  },
  {
   "cell_type": "code",
   "execution_count": 7,
   "metadata": {},
   "outputs": [
    {
     "name": "stdout",
     "output_type": "stream",
     "text": [
      "arya cse\n",
      "Ritik cse\n"
     ]
    }
   ],
   "source": [
    "# arya cse\n",
    "# Ritik cse\n",
    "\n",
    "def myname(name='arya',classes='cse'):\n",
    "    print(name+\" \"+classes)\n",
    "myname()\n",
    "myname(name=\"Ritik\")"
   ]
  },
  {
   "cell_type": "code",
   "execution_count": 8,
   "metadata": {},
   "outputs": [
    {
     "name": "stdout",
     "output_type": "stream",
     "text": [
      "arya cse\n"
     ]
    }
   ],
   "source": [
    "myname()\n"
   ]
  },
  {
   "cell_type": "code",
   "execution_count": 9,
   "metadata": {},
   "outputs": [
    {
     "name": "stdout",
     "output_type": "stream",
     "text": [
      "Ritik cse\n"
     ]
    }
   ],
   "source": [
    "myname(name=\"Ritik\")\n"
   ]
  },
  {
   "cell_type": "code",
   "execution_count": null,
   "metadata": {},
   "outputs": [],
   "source": []
  },
  {
   "cell_type": "markdown",
   "metadata": {},
   "source": [
    " List comprehension"
   ]
  },
  {
   "cell_type": "code",
   "execution_count": null,
   "metadata": {},
   "outputs": [],
   "source": [
    "for x in range (1,11):\n",
    "    print(x)"
   ]
  },
  {
   "cell_type": "code",
   "execution_count": null,
   "metadata": {},
   "outputs": [],
   "source": [
    "lst=[x for x in range (1,11)]\n",
    "print(lst)"
   ]
  },
  {
   "cell_type": "code",
   "execution_count": null,
   "metadata": {},
   "outputs": [],
   "source": [
    "print(\"even \" if int(input(\"enter the number\"))%2==0 else \"odd\")"
   ]
  },
  {
   "cell_type": "code",
   "execution_count": 1,
   "metadata": {},
   "outputs": [
    {
     "name": "stdout",
     "output_type": "stream",
     "text": [
      "hey i am from arya collage\n"
     ]
    }
   ],
   "source": [
    "class Bank:\n",
    "    def customer():\n",
    "        return \"hey i am from arya collage\"\n",
    "\n",
    "print(Bank.customer())"
   ]
  },
  {
   "cell_type": "code",
   "execution_count": 5,
   "metadata": {},
   "outputs": [
    {
     "name": "stdout",
     "output_type": "stream",
     "text": [
      "hey i am from arya collage\n",
      "hey i am from arya main collage\n"
     ]
    }
   ],
   "source": [
    "class Bank:\n",
    "    def customer():\n",
    "        return \"hey i am from arya collage\"\n",
    "    \n",
    "\n",
    "class Arya(Bank):\n",
    "    def customer1():\n",
    "        return \"hey i am from arya main collage\"\n",
    "\n",
    "print(Arya.customer())\n",
    "print(Arya.customer1())"
   ]
  },
  {
   "cell_type": "code",
   "execution_count": null,
   "metadata": {},
   "outputs": [
    {
     "name": "stdout",
     "output_type": "stream",
     "text": [
      "hello\n",
      "<__main__.Bank object at 0x000001E5ABEA2210>\n"
     ]
    }
   ],
   "source": [
    "class Bank:\n",
    "    def __init__(self):\n",
    "        print(\"hello\")\n",
    "# print(Bank())\n",
    "obj =Bank()\n"
   ]
  },
  {
   "cell_type": "code",
   "execution_count": 10,
   "metadata": {},
   "outputs": [
    {
     "name": "stdout",
     "output_type": "stream",
     "text": [
      "hello\n"
     ]
    }
   ],
   "source": [
    "class Bank:\n",
    "    def __init__(self,accountnumber):\n",
    "        self.bankaccount=accountnumber \n",
    "        print(\"hello\")\n",
    "# print(Bank())\n",
    "obj =Bank(accountnumber=1234) \n"
   ]
  },
  {
   "cell_type": "code",
   "execution_count": 12,
   "metadata": {},
   "outputs": [
    {
     "name": "stdout",
     "output_type": "stream",
     "text": [
      "hello\n",
      "it is my account number  1234\n"
     ]
    }
   ],
   "source": [
    "class Bank:\n",
    "    def __init__(self,accountnumber):\n",
    "        self.bankaccount=accountnumber \n",
    "        print(\"hello\")\n",
    "\n",
    "\n",
    "    def customer(self):\n",
    "        # print(self.bankaccount) \n",
    "        print(\"it is my account number \",self.bankaccount)\n",
    "# print(Bank())\n",
    "obj =Bank(accountnumber=1234) \n",
    "obj.customer()"
   ]
  },
  {
   "cell_type": "code",
   "execution_count": null,
   "metadata": {},
   "outputs": [
    {
     "name": "stdout",
     "output_type": "stream",
     "text": [
      "it is my college address   Arya collage\n"
     ]
    }
   ],
   "source": [
    "class Aryamain:\n",
    "    def __init__(self,address,accountnumber):\n",
    "        self.bankaccount=accountnumber\n",
    "        self.address=address\n",
    "    def student(self):\n",
    "        print(\"it is my college address \",self.address)\n",
    "Aryamain(\"Arya collage\",1234).student()\n",
    "        "
   ]
  },
  {
   "cell_type": "code",
   "execution_count": null,
   "metadata": {},
   "outputs": [
    {
     "name": "stdout",
     "output_type": "stream",
     "text": [
      "it is my arya old college address  Arya old main collage\n"
     ]
    }
   ],
   "source": [
    "class AryaMain:\n",
    "    def __init__(self,mainaddress,mainaccountnumber):\n",
    "        self.bankaccount=mainaccountnumber\n",
    "        self.address=mainaddress\n",
    "    def student(self):\n",
    "        print(\"it is my college address \",self.address)\n",
    "\n",
    "\n",
    "class AryaOld:\n",
    "    def __init__(self,oldaddress,oldaccountnumber):\n",
    "\n",
    "        # super().__init__(address,oldaccountnumber)\n",
    "        self.bankaccount=oldaccountnumber\n",
    "        self.address=oldaddress\n",
    "    def student(self):\n",
    "        print(\"it is my arya old college address \",self.address)\n",
    "\n",
    "# AryaMain(\"Arya collage\",1234).student()\n",
    "AryaOld(\"Arya old main collage\",1234).student()\n",
    "        "
   ]
  },
  {
   "cell_type": "code",
   "execution_count": 2,
   "metadata": {},
   "outputs": [
    {
     "name": "stdout",
     "output_type": "stream",
     "text": [
      "Parent class constructor called\n"
     ]
    },
    {
     "ename": "AttributeError",
     "evalue": "'super' object has no attribute 'account'",
     "output_type": "error",
     "traceback": [
      "\u001b[1;31m---------------------------------------------------------------------------\u001b[0m",
      "\u001b[1;31mAttributeError\u001b[0m                            Traceback (most recent call last)",
      "Cell \u001b[1;32mIn[2], line 13\u001b[0m\n\u001b[0;32m     11\u001b[0m \u001b[38;5;66;03m# Create an instance of Child\u001b[39;00m\n\u001b[0;32m     12\u001b[0m Parent(account\u001b[38;5;241m=\u001b[39m\u001b[38;5;241m111\u001b[39m)\n\u001b[1;32m---> 13\u001b[0m obj \u001b[38;5;241m=\u001b[39m \u001b[43mChild\u001b[49m\u001b[43m(\u001b[49m\u001b[43m)\u001b[49m\n",
      "Cell \u001b[1;32mIn[2], line 8\u001b[0m, in \u001b[0;36mChild.__init__\u001b[1;34m(self)\u001b[0m\n\u001b[0;32m      7\u001b[0m \u001b[38;5;28;01mdef\u001b[39;00m \u001b[38;5;21m__init__\u001b[39m(\u001b[38;5;28mself\u001b[39m):\n\u001b[1;32m----> 8\u001b[0m     \u001b[38;5;28;43msuper\u001b[39;49m\u001b[43m(\u001b[49m\u001b[43m)\u001b[49m\u001b[38;5;241;43m.\u001b[39;49m\u001b[43maccount\u001b[49m  \u001b[38;5;66;03m# Calls Parent's constructor\u001b[39;00m\n\u001b[0;32m      9\u001b[0m     \u001b[38;5;28mprint\u001b[39m(\u001b[38;5;124m\"\u001b[39m\u001b[38;5;124mChild class constructor called\u001b[39m\u001b[38;5;124m\"\u001b[39m,\u001b[38;5;28mself\u001b[39m\u001b[38;5;241m.\u001b[39maccount)\n",
      "\u001b[1;31mAttributeError\u001b[0m: 'super' object has no attribute 'account'"
     ]
    }
   ],
   "source": [
    "class Parent:\n",
    "    def __init__(self,account):\n",
    "        print(\"Parent class constructor called\")\n",
    "        self.account = account\n",
    "\n",
    "class Child(Parent):\n",
    "    def __init__(self):\n",
    "        super().account  # Calls Parent's constructor\n",
    "        print(\"Child class constructor called\",self.account)\n",
    "\n",
    "# Create an instance of Child\n",
    "Parent(account=111)\n",
    "obj = Child()\n"
   ]
  },
  {
   "cell_type": "code",
   "execution_count": 36,
   "metadata": {},
   "outputs": [
    {
     "name": "stdout",
     "output_type": "stream",
     "text": [
      "this is samne vali college \n"
     ]
    }
   ],
   "source": [
    "class AryaMain:\n",
    "      def __init__(self):\n",
    "        print(\"this is my college\")\n",
    "        \n",
    "        \n",
    "class AryaOld(AryaMain):\n",
    "    def __init__(self):\n",
    "        # super().__init__()\n",
    "        print(\"this is samne vali college \")\n",
    "obj=AryaOld()\n",
    "    "
   ]
  },
  {
   "cell_type": "code",
   "execution_count": 40,
   "metadata": {},
   "outputs": [
    {
     "name": "stdout",
     "output_type": "stream",
     "text": [
      "Parent initialized with name: Arya\n",
      "Child initialized with age: 25\n",
      "Arya\n"
     ]
    }
   ],
   "source": [
    "class Parent:\n",
    "    def __init__(self, name):\n",
    "        self.name = name\n",
    "        print(f\"Parent initialized with name: {self.name}\")\n",
    "\n",
    "class Child(Parent):\n",
    "    def __init__(self, name, age):\n",
    "        super().__init__(name)  # Pass `name` to Parent's constructor\n",
    "        self.age = age\n",
    "        print(f\"Child initialized with age: {self.age}\")\n",
    "        print(self.name)\n",
    "\n",
    "# Create an instance of Child\n",
    "obj = Child(\"Arya\", 25)\n"
   ]
  },
  {
   "cell_type": "code",
   "execution_count": 41,
   "metadata": {},
   "outputs": [
    {
     "data": {
      "text/plain": [
       "'Parent class constructor called'"
      ]
     },
     "execution_count": 41,
     "metadata": {},
     "output_type": "execute_result"
    }
   ],
   "source": [
    "class Parent:\n",
    "    def __init__(self):\n",
    "        return \"Parent class constructor called\"\n",
    "    \n",
    "    def beta(self):\n",
    "        return \"Parent class constructor called\"        \n",
    "class Child(Parent):\n",
    "    def __init__(self):\n",
    "        super().beta()  # Calls Parent's constructor\n",
    "Child().beta()"
   ]
  },
  {
   "cell_type": "code",
   "execution_count": 45,
   "metadata": {},
   "outputs": [
    {
     "name": "stdout",
     "output_type": "stream",
     "text": [
      "hello son\n"
     ]
    },
    {
     "data": {
      "text/plain": [
       "'hello grandfather'"
      ]
     },
     "execution_count": 45,
     "metadata": {},
     "output_type": "execute_result"
    }
   ],
   "source": [
    "class GrandFather:\n",
    "    def __init__(self):\n",
    "        return \"hello grandfather\"\n",
    "    def beta(self):\n",
    "        return \"hello grandfather\"\n",
    "\n",
    "class Father:\n",
    "    def __init__(self):\n",
    "        return \"hello father\"\n",
    "\n",
    "class Son(Father,GrandFather):\n",
    "    def __init__(self): \n",
    "        # return \"hello son\"\n",
    "        print(\"hello son\")\n",
    "    \n",
    "obj=Son()\n",
    "obj.beta()"
   ]
  },
  {
   "cell_type": "code",
   "execution_count": null,
   "metadata": {},
   "outputs": [],
   "source": [
    "class GrandFather:\n",
    "    def __init__(self,fathername):\n",
    "        self._fathername=fathername \n",
    "    def beta(self):\n",
    "        return \"hello grandfather\"\n",
    "\n",
    "class Father:\n",
    "    def __init__(self):\n",
    "        return \"hello father\"\n",
    "\n",
    "class Son(Father,GrandFather):    \n",
    "    def __init__(self): \n",
    "        # return \"hello son\"\n",
    "        print(\"hello son\")\n",
    "    def beta(self):\n",
    "        return \"hello son\"\n",
    "obj=Son()\n",
    "print(obj.beta())"
   ]
  },
  {
   "cell_type": "code",
   "execution_count": 46,
   "metadata": {},
   "outputs": [
    {
     "ename": "AttributeError",
     "evalue": "'Employee' object has no attribute '_Employee__Mangaer_name'",
     "output_type": "error",
     "traceback": [
      "\u001b[1;31m---------------------------------------------------------------------------\u001b[0m",
      "\u001b[1;31mAttributeError\u001b[0m                            Traceback (most recent call last)",
      "Cell \u001b[1;32mIn[46], line 35\u001b[0m\n\u001b[0;32m     32\u001b[0m emp_obj \u001b[38;5;241m=\u001b[39m Employee()\n\u001b[0;32m     34\u001b[0m \u001b[38;5;66;03m# calling a method that can access private variable \u001b[39;00m\n\u001b[1;32m---> 35\u001b[0m \u001b[43memp_obj\u001b[49m\u001b[38;5;241;43m.\u001b[39;49m\u001b[43mdisplay_private\u001b[49m\u001b[43m(\u001b[49m\u001b[43m)\u001b[49m\n\u001b[0;32m     36\u001b[0m \u001b[38;5;66;03m# we are getting error, because private variable can not be accesible in\u001b[39;00m\n\u001b[0;32m     37\u001b[0m \u001b[38;5;66;03m# sub class \u001b[39;00m\n",
      "Cell \u001b[1;32mIn[46], line 26\u001b[0m, in \u001b[0;36mEmployee.display_private\u001b[1;34m(self)\u001b[0m\n\u001b[0;32m     25\u001b[0m \u001b[38;5;28;01mdef\u001b[39;00m \u001b[38;5;21mdisplay_private\u001b[39m(\u001b[38;5;28mself\u001b[39m):\n\u001b[1;32m---> 26\u001b[0m     \u001b[38;5;28mprint\u001b[39m(\u001b[38;5;28;43mself\u001b[39;49m\u001b[38;5;241;43m.\u001b[39;49m\u001b[43m__Mangaer_name\u001b[49m)\n\u001b[0;32m     27\u001b[0m     \u001b[38;5;28mprint\u001b[39m(\u001b[38;5;28mself\u001b[39m\u001b[38;5;241m.\u001b[39m__Manger_email)\n\u001b[0;32m     28\u001b[0m     \u001b[38;5;28mprint\u001b[39m(\u001b[38;5;28mself\u001b[39m\u001b[38;5;241m.\u001b[39m__Mangaer_pass)\n",
      "\u001b[1;31mAttributeError\u001b[0m: 'Employee' object has no attribute '_Employee__Mangaer_name'"
     ]
    }
   ],
   "source": [
    "# 1. public variable\n",
    "# 2. protected variable\n",
    "# 3. private variable\n",
    "\n",
    "class Manager:\n",
    "    def __init__(self):\n",
    "\n",
    "        #Manager creditintioal  (set as private variable)\n",
    "        self.__Mangaer_name = \"suresh chandra\"\n",
    "        self.__Manger_email = \"suresh123@gmail.com\"\n",
    "        self.__Mangaer_pass = \"Hellow@12354\"\n",
    "\n",
    "        #Manager has employee data as public variable\n",
    "        self.Employe_name = \"Rahul kumar\"\n",
    "        self.Employee_email = \"rahul@sbi.in\"\n",
    "        self.Employee_pass = \"sbi@882\"\n",
    "\n",
    "        #protected data set as a protected varaiable\n",
    "        self._Manager_address  = \"Agra taj ganj\"\n",
    "        self._Manager_contact_number = 9759194985\n",
    "\n",
    "class Employee(Manager):\n",
    "\n",
    "    # creating a method to access private variable\n",
    "    def display_private(self):\n",
    "        print(self.__Mangaer_name)\n",
    "        print(self.__Manger_email)\n",
    "        print(self.__Mangaer_pass)\n",
    "\n",
    "\n",
    "\n",
    "emp_obj = Employee()\n",
    "\n",
    "# calling a method that can access private variable \n",
    "emp_obj.display_private()\n",
    "# we are getting error, because private variable can not be accesible in\n",
    "# sub class "
   ]
  },
  {
   "cell_type": "code",
   "execution_count": 47,
   "metadata": {},
   "outputs": [
    {
     "ename": "AttributeError",
     "evalue": "'Employee' object has no attribute '__Mangaer_name'",
     "output_type": "error",
     "traceback": [
      "\u001b[1;31m---------------------------------------------------------------------------\u001b[0m",
      "\u001b[1;31mAttributeError\u001b[0m                            Traceback (most recent call last)",
      "Cell \u001b[1;32mIn[47], line 1\u001b[0m\n\u001b[1;32m----> 1\u001b[0m \u001b[43memp_obj\u001b[49m\u001b[38;5;241;43m.\u001b[39;49m\u001b[43m__Mangaer_name\u001b[49m\n\u001b[0;32m      2\u001b[0m \u001b[38;5;66;03m# even we can,t access directly variable \u001b[39;00m\n",
      "\u001b[1;31mAttributeError\u001b[0m: 'Employee' object has no attribute '__Mangaer_name'"
     ]
    }
   ],
   "source": [
    "emp_obj.__Mangaer_name\n",
    "# even we can,t access directly variable "
   ]
  },
  {
   "cell_type": "code",
   "execution_count": 48,
   "metadata": {},
   "outputs": [
    {
     "data": {
      "text/plain": [
       "'Agra taj ganj'"
      ]
     },
     "execution_count": 48,
     "metadata": {},
     "output_type": "execute_result"
    }
   ],
   "source": [
    "## Lets access protected var with  emp obj,\n",
    "# it is accessible, due to we are accessing through the sub class \n",
    "\n",
    "emp_obj._Manager_address"
   ]
  },
  {
   "cell_type": "code",
   "execution_count": 1,
   "metadata": {},
   "outputs": [
    {
     "name": "stdout",
     "output_type": "stream",
     "text": [
      "Agra taj ganj\n"
     ]
    }
   ],
   "source": [
    "class Manager:\n",
    "    def __init__(self):\n",
    "\n",
    "        #Manager creditintioal  (set as private variable)\n",
    "        self.__Mangaer_name = \"suresh chandra\"\n",
    "        self.__Manger_email = \"suresh123@gmail.com\"\n",
    "        self.__Mangaer_pass = \"Hellow@12354\"\n",
    "\n",
    "        #Manager has employee data as public variable\n",
    "        self.Employe_name = \"Rahul kumar\"\n",
    "        self.Employee_email = \"rahul@sbi.in\"\n",
    "        self.Employee_pass = \"sbi@882\"\n",
    "\n",
    "        #protected data set as a protected varaiable\n",
    "        self._Manager_address  = \"Agra taj ganj\"\n",
    "        self._Manager_contact_number = 9759194985\n",
    "\n",
    "class Employee(Manager):\n",
    "\n",
    "    # creating a method to access private variable\n",
    "    def display_private(self):\n",
    "        # print(self.__Mangaer_name)\n",
    "        # print(self.__Manger_email)\n",
    "        # print(self.__Mangaer_pass)\n",
    "\n",
    "        print(self._Manager_address)\n",
    "\n",
    "emp_obj = Employee()\n",
    "\n",
    "# calling a method that can access private variable \n",
    "emp_obj.display_private()\n",
    "# we are getting error, because private variable can not be accesible in\n",
    "# sub class "
   ]
  },
  {
   "cell_type": "code",
   "execution_count": 51,
   "metadata": {},
   "outputs": [
    {
     "name": "stdout",
     "output_type": "stream",
     "text": [
      "protected var from outside the class \n"
     ]
    },
    {
     "data": {
      "text/plain": [
       "'Agra taj ganj'"
      ]
     },
     "execution_count": 51,
     "metadata": {},
     "output_type": "execute_result"
    }
   ],
   "source": [
    "manager_obj = Manager()\n",
    "print('protected var from outside the class ')\n",
    "manager_obj._Manager_address"
   ]
  },
  {
   "cell_type": "code",
   "execution_count": 53,
   "metadata": {},
   "outputs": [
    {
     "data": {
      "text/plain": [
       "'sbi@882'"
      ]
     },
     "execution_count": 53,
     "metadata": {},
     "output_type": "execute_result"
    }
   ],
   "source": [
    "manager_obj.Employee_pass"
   ]
  },
  {
   "cell_type": "code",
   "execution_count": 54,
   "metadata": {},
   "outputs": [
    {
     "data": {
      "text/plain": [
       "{'_Manager__Mangaer_name': 'suresh chandra',\n",
       " '_Manager__Manger_email': 'suresh123@gmail.com',\n",
       " '_Manager__Mangaer_pass': 'Hellow@12354',\n",
       " 'Employe_name': 'Rahul kumar',\n",
       " 'Employee_email': 'rahul@sbi.in',\n",
       " 'Employee_pass': 'sbi@882',\n",
       " '_Manager_address': 'Agra taj ganj',\n",
       " '_Manager_contact_number': 9759194985}"
      ]
     },
     "execution_count": 54,
     "metadata": {},
     "output_type": "execute_result"
    }
   ],
   "source": [
    "emp_obj.__dict__"
   ]
  },
  {
   "cell_type": "code",
   "execution_count": null,
   "metadata": {},
   "outputs": [],
   "source": []
  }
 ],
 "metadata": {
  "kernelspec": {
   "display_name": "Python 3",
   "language": "python",
   "name": "python3"
  },
  "language_info": {
   "codemirror_mode": {
    "name": "ipython",
    "version": 3
   },
   "file_extension": ".py",
   "mimetype": "text/x-python",
   "name": "python",
   "nbconvert_exporter": "python",
   "pygments_lexer": "ipython3",
   "version": "3.11.5"
  }
 },
 "nbformat": 4,
 "nbformat_minor": 2
}
